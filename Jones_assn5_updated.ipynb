{
 "cells": [
  {
   "cell_type": "markdown",
   "metadata": {},
   "source": [
    "# Part 1: \"Turkey...to be or not to be?\" ~ William Thankspear"
   ]
  },
  {
   "cell_type": "code",
   "execution_count": 1,
   "metadata": {},
   "outputs": [
    {
     "name": "stdout",
     "output_type": "stream",
     "text": [
      "Person\tVegetarian\n",
      "Fred\tNo\n",
      "Jamie\tNo\n",
      "Shelly\tYes\n",
      "Eileen\tNo\n",
      "Willard\tYes\n",
      "Mike\tSometimes\n",
      "Anna\tNo\n",
      "Marie\tYes\n",
      "Marian\tSometimes\n",
      "Jessica\tNo\n",
      "Alan\tNo\n",
      "Rebecca\tNo\n",
      "Bonnie\tNo\n",
      "Mark\tNo\n",
      "Leslie\tYes\n",
      "Rachel\tNo\n",
      "Olivia\tNo\n",
      "Chelsea\tNo\n",
      "\n"
     ]
    }
   ],
   "source": [
    "#open file using 'with open' command\n",
    "with open('Desktop/guest_list.txt') as file_object:\n",
    "    \n",
    "    contents = file_object.read() #view the file using the read () method  \n",
    "    \n",
    "print(contents) #show the contents of the file using the 'print' command"
   ]
  },
  {
   "cell_type": "code",
   "execution_count": 59,
   "metadata": {
    "scrolled": true
   },
   "outputs": [
    {
     "name": "stdout",
     "output_type": "stream",
     "text": [
      "Desktop/guest_list.txt\n"
     ]
    }
   ],
   "source": [
    "# Make guest_list.txt a variable\n",
    "guest_list = 'Desktop/guest_list.txt'\n",
    "\n",
    "print(guest_list) #Make sure the variable's content is correct\n"
   ]
  },
  {
   "cell_type": "code",
   "execution_count": 60,
   "metadata": {},
   "outputs": [
    {
     "name": "stdout",
     "output_type": "stream",
     "text": [
      "['Person\\tVegetarian\\n', 'Fred\\tNo\\n', 'Jamie\\tNo\\n', 'Shelly\\tYes\\n', 'Eileen\\tNo\\n', 'Willard\\tYes\\n', 'Mike\\tSometimes\\n', 'Anna\\tNo\\n', 'Marie\\tYes\\n', 'Marian\\tSometimes\\n', 'Jessica\\tNo\\n', 'Alan\\tNo\\n', 'Rebecca\\tNo\\n', 'Bonnie\\tNo\\n', 'Mark\\tNo\\n', 'Leslie\\tYes\\n', 'Rachel\\tNo\\n', 'Olivia\\tNo\\n', 'Chelsea\\tNo\\n']\n"
     ]
    }
   ],
   "source": [
    "# The goal here is to separate the Person column from the Vegetarian column, so you can work on each column independently\n",
    "\n",
    "#To do so, you first need to see what you will be working with...\n",
    "\n",
    "with open(guest_list) as file_object:\n",
    "    guests=file_object.readlines() #read each line into list called guest_list, using the readlines() method\n",
    "    \n",
    "print(guests)\n",
    "\n",
    "# As you can see, there are two types of escape characters, the '\\n' (new line) and '\\t' (add space) that must be removed for each column to be legible and independent"
   ]
  },
  {
   "cell_type": "code",
   "execution_count": 185,
   "metadata": {},
   "outputs": [],
   "source": [
    "# Create new, blank files for the two separated files\n",
    "\n",
    "guest_name=[]\n",
    "guest_preference=[]\n",
    "\n",
    "# Use a for loop to remove the new lines (\\n) and spaces (\\t) from each guest name and preference\n",
    "\n",
    "for guest in guests:\n",
    "    strip_guest=guest.rstrip()              # Remove the new lines using the rstrip() method\n",
    "    split_guest=strip_guest.split('\\t')     # Remove the spaces using the split() method\n",
    "    guest_name.append(split_guest[0])       # Using the 0 index only indexes information from the guest-name column\n",
    "    guest_preference.append(split_guest[1]) # Using the 1 index only indexes inforation from the guest-preference column\n",
    "\n",
    "    "
   ]
  },
  {
   "cell_type": "code",
   "execution_count": 62,
   "metadata": {},
   "outputs": [
    {
     "name": "stdout",
     "output_type": "stream",
     "text": [
      "['Person', 'Fred', 'Jamie', 'Shelly', 'Eileen', 'Willard', 'Mike', 'Anna', 'Marie', 'Marian', 'Jessica', 'Alan', 'Rebecca', 'Bonnie', 'Mark', 'Leslie', 'Rachel', 'Olivia', 'Chelsea']\n",
      "\n",
      "\n",
      "['Vegetarian', 'No', 'No', 'Yes', 'No', 'Yes', 'Sometimes', 'No', 'Yes', 'Sometimes', 'No', 'No', 'No', 'No', 'No', 'Yes', 'No', 'No', 'No']\n"
     ]
    }
   ],
   "source": [
    "# View both files to make sure the columns are correct\n",
    "\n",
    "print(guest_name)\n",
    "\n",
    "print('\\n') # add to make your data easier to view\n",
    "\n",
    "print(guest_preference)"
   ]
  },
  {
   "cell_type": "code",
   "execution_count": 6,
   "metadata": {},
   "outputs": [],
   "source": [
    "# Omit this cell\n",
    "\n",
    "\n",
    "#View contents variable to reference guest information\n",
    "#print(contents)"
   ]
  },
  {
   "cell_type": "code",
   "execution_count": 51,
   "metadata": {},
   "outputs": [],
   "source": [
    "#guest_info = [ ['Fred'], ['No'],                                #Omit this cell\n",
    "              #['Jamie'], ['No'], \n",
    "              #['Shelly'], ['Yes'], \n",
    "              #['Eileen'], ['No'], \n",
    "              #['Willard'], ['Yes'], \n",
    "              #['Mike'], ['Sometimes'], \n",
    "              #['Anna'], ['No'], \n",
    "              #['Marie'], ['Yes'], \n",
    "              #['Marian'], ['Sometimes'], \n",
    "              #['Jessica'], ['No'], \n",
    "              #['Alan'], ['No'], \n",
    "              #['Rebecca'], ['No'], \n",
    "              #['Bonnie'], ['No'], \n",
    "              #['Mark'], ['No'], \n",
    "              #['Leslie'], ['Yes'], \n",
    "              #['Rachel'], ['No'], \n",
    "              #['Olivia'], ['No'], \n",
    "              #['Chelsea'], ['No']]\n",
    "\n",
    "#guest_info[0]\n"
   ]
  },
  {
   "cell_type": "code",
   "execution_count": 66,
   "metadata": {},
   "outputs": [
    {
     "name": "stdout",
     "output_type": "stream",
     "text": [
      "['Vegetarian', 'No', 'No', 'Yes', 'No', 'Yes', 'Sometimes', 'No', 'Yes', 'Sometimes', 'No', 'No', 'No', 'No', 'No', 'Yes', 'No', 'No', 'No']\n"
     ]
    }
   ],
   "source": [
    "print(guest_preference) #View and use as a reference"
   ]
  },
  {
   "cell_type": "code",
   "execution_count": 181,
   "metadata": {},
   "outputs": [
    {
     "name": "stdout",
     "output_type": "stream",
     "text": [
      "No 12\n",
      "Yes 4\n",
      "Sometimes 2\n",
      "\n",
      "\n",
      "Guest preferences:\n",
      "There will be 14 guests eating turkey this Thanksgiving.\n"
     ]
    }
   ],
   "source": [
    "# The goal is to determine the number of guests who will be eating turkey\n",
    "\n",
    "#Count the number of times a character (No, Yes, and Sometimes) appears in your list and view the number of guests who will and will not be eating turkey\n",
    "count = {}\n",
    "for s in guest_preference:\n",
    "  if s in count:\n",
    "    count[s] += 1\n",
    "  else:\n",
    "    count[s] = 1\n",
    "\n",
    "for key in count:\n",
    "  if count[key] > 1:\n",
    "    print(key, count[key])\n",
    "    \n",
    "#### According to these results, there are 12 guests that are NOT vegetarians and 2 that are SOMETIMES vegetarians.\n",
    "\n",
    "### This gives you a total of 14 guests who will be eating turkey\n",
    "    \n",
    "print('\\n')\n",
    "\n",
    "print(\"There will be\", len(count) + len(count) + len(s) + len(s) + len(s), \"guests eating turkey this Thanksgiving.\")\n"
   ]
  },
  {
   "cell_type": "markdown",
   "metadata": {},
   "source": [
    "# Part 2: Food for thought- Determining turkey size?"
   ]
  },
  {
   "cell_type": "code",
   "execution_count": 89,
   "metadata": {},
   "outputs": [
    {
     "name": "stdout",
     "output_type": "stream",
     "text": [
      "Max_Guests\tMin_Pounds\n",
      "4\t5\n",
      "6\t8\n",
      "8\t10\n",
      "10\t13\n",
      "12\t15\n",
      "15\t20\n",
      "20\t25\n",
      "\n"
     ]
    }
   ],
   "source": [
    "#open file using 'with open' command\n",
    "with open('Desktop/turkey_size.txt') as file_object:\n",
    "    \n",
    "    contents = file_object.read() #view the file using the read () method  \n",
    "    \n",
    "print(contents) #show the contents of the file using the 'print' command"
   ]
  },
  {
   "cell_type": "code",
   "execution_count": 93,
   "metadata": {},
   "outputs": [
    {
     "name": "stdout",
     "output_type": "stream",
     "text": [
      "Desktop/turkey_size.txt\n"
     ]
    }
   ],
   "source": [
    "# Make turkey_size.txt a variable\n",
    "turkey_size = 'Desktop/turkey_size.txt'\n",
    "\n",
    "print(turkey_size) #Make sure the variable's content is correct\n"
   ]
  },
  {
   "cell_type": "code",
   "execution_count": 100,
   "metadata": {},
   "outputs": [
    {
     "name": "stdout",
     "output_type": "stream",
     "text": [
      "['Max_Guests\\tMin_Pounds\\n', '4\\t5\\n', '6\\t8\\n', '8\\t10\\n', '10\\t13\\n', '12\\t15\\n', '15\\t20\\n', '20\\t25\\n']\n"
     ]
    }
   ],
   "source": [
    "with open(turkey_size) as file_object:\n",
    "    turkeys=file_object.readlines() #read each line into list called turkey_size, using the readlines() method\n",
    "    \n",
    "print(turkeys)"
   ]
  },
  {
   "cell_type": "code",
   "execution_count": 101,
   "metadata": {},
   "outputs": [],
   "source": [
    "# Create new, blank files for the two separated files\n",
    "\n",
    "max_guests=[]\n",
    "min_pounds=[]\n",
    "\n",
    "# Use a for loop to remove the new lines (\\n) and spaces (\\t) from each guest name and preference\n",
    "\n",
    "for turkey in turkeys:\n",
    "    strip_turkey=turkey.rstrip()              # Remove the new lines using the rstrip() method\n",
    "    split_turkey=strip_turkey.split('\\t')     # Remove the spaces using the split() method\n",
    "    max_guests.append(split_turkey[0])        # Using the 0 index only indexes information from the group-size column\n",
    "    min_pounds.append(split_turkey[1])        # Using the 1 index only indexes inforation from the turkey-weight column\n"
   ]
  },
  {
   "cell_type": "code",
   "execution_count": 104,
   "metadata": {},
   "outputs": [
    {
     "name": "stdout",
     "output_type": "stream",
     "text": [
      "['Max_Guests', '4', '6', '8', '10', '12', '15', '20']\n",
      "\n",
      "\n",
      "['Min_Pounds', '5', '8', '10', '13', '15', '20', '25']\n"
     ]
    }
   ],
   "source": [
    "# View the newly seprated files to verify the information inside\n",
    "\n",
    "print(max_guests) \n",
    "\n",
    "print('\\n')\n",
    "\n",
    "print(min_pounds)"
   ]
  },
  {
   "cell_type": "code",
   "execution_count": 139,
   "metadata": {},
   "outputs": [
    {
     "data": {
      "text/plain": [
       "'Min_Pounds'"
      ]
     },
     "execution_count": 139,
     "metadata": {},
     "output_type": "execute_result"
    }
   ],
   "source": [
    "# Remove the headings from both lists\n",
    "\n",
    "max_guests.pop(0)\n",
    "\n",
    "min_pounds.pop(0)"
   ]
  },
  {
   "cell_type": "code",
   "execution_count": 140,
   "metadata": {},
   "outputs": [
    {
     "name": "stdout",
     "output_type": "stream",
     "text": [
      "['4', '6', '8', '10', '12', '15', '20']\n",
      "\n",
      "\n",
      "['5', '8', '10', '13', '15', '20', '25']\n"
     ]
    }
   ],
   "source": [
    "print(max_guests)\n",
    "\n",
    "print('\\n')\n",
    "\n",
    "print(min_pounds)"
   ]
  },
  {
   "cell_type": "code",
   "execution_count": 147,
   "metadata": {},
   "outputs": [
    {
     "name": "stdout",
     "output_type": "stream",
     "text": [
      "20\n",
      "25\n"
     ]
    }
   ],
   "source": [
    "#The goal is to determine the correct turkey (according to size) that will feed at least 14 guests\n",
    "\n",
    "for index in range(0, len(min_pounds)):\n",
    "    if int(max_guests[index]) >= 14 : \n",
    "        print(min_pounds[index])\n",
    "        \n",
    "### According to these results, the only turkey sizes recommended for a guest size of 14 or more is a 20 and 25 pound turkey. \n",
    "\n",
    "### Since only the minimum sized turkey is needed for 14 guests, the best option would be the 20 pound turkey, which feeds at most 15 guests."
   ]
  },
  {
   "cell_type": "code",
   "execution_count": 219,
   "metadata": {},
   "outputs": [
    {
     "name": "stdout",
     "output_type": "stream",
     "text": [
      "The minimum turkey size must be 20 pounds.\n"
     ]
    }
   ],
   "source": [
    "for index in range(0, len(min_pounds)):\n",
    "    if int(max_guests[index]) == 15 : \n",
    "        print(\"The minimum turkey size must be\",min_pounds[index], \"pounds.\")"
   ]
  },
  {
   "cell_type": "markdown",
   "metadata": {},
   "source": [
    "# Part 3: A trio is triple the fun! Welcoming old friends..."
   ]
  },
  {
   "cell_type": "code",
   "execution_count": 182,
   "metadata": {},
   "outputs": [
    {
     "name": "stdout",
     "output_type": "stream",
     "text": [
      "Person\tVegetarian\n",
      "Fred\tNo\n",
      "Jamie\tNo\n",
      "Shelly\tYes\n",
      "Eileen\tNo\n",
      "Willard\tYes\n",
      "Mike\tSometimes\n",
      "Anna\tNo\n",
      "Marie\tYes\n",
      "Marian\tSometimes\n",
      "Jessica\tNo\n",
      "Alan\tNo\n",
      "Rebecca\tNo\n",
      "Bonnie\tNo\n",
      "Mark\tNo\n",
      "Leslie\tYes\n",
      "Rachel\tNo\n",
      "Olivia\tNo\n",
      "Chelsea\tNo\n",
      "\n"
     ]
    }
   ],
   "source": [
    "#open file using 'with open' command\n",
    "with open('Desktop/guest_list.txt') as file_object:\n",
    "    \n",
    "    contents = file_object.read() #view the file using the read () method  \n",
    "    \n",
    "print(contents) #show the contents of the file using the 'print' command"
   ]
  },
  {
   "cell_type": "code",
   "execution_count": 183,
   "metadata": {},
   "outputs": [
    {
     "name": "stdout",
     "output_type": "stream",
     "text": [
      "Desktop/guest_list.txt\n"
     ]
    }
   ],
   "source": [
    "# Make guest_list.txt a variable\n",
    "guest_list = 'Desktop/guest_list.txt'\n",
    "\n",
    "print(guest_list) #Make sure the variable's content is correct"
   ]
  },
  {
   "cell_type": "code",
   "execution_count": 187,
   "metadata": {},
   "outputs": [
    {
     "name": "stdout",
     "output_type": "stream",
     "text": [
      "['Person\\tVegetarian\\n', 'Fred\\tNo\\n', 'Jamie\\tNo\\n', 'Shelly\\tYes\\n', 'Eileen\\tNo\\n', 'Willard\\tYes\\n', 'Mike\\tSometimes\\n', 'Anna\\tNo\\n', 'Marie\\tYes\\n', 'Marian\\tSometimes\\n', 'Jessica\\tNo\\n', 'Alan\\tNo\\n', 'Rebecca\\tNo\\n', 'Bonnie\\tNo\\n', 'Mark\\tNo\\n', 'Leslie\\tYes\\n', 'Rachel\\tNo\\n', 'Olivia\\tNo\\n', 'Chelsea\\tNo\\n']\n",
      "\n",
      "\n",
      "['Person\\tVegetarian\\n', 'Fred\\tNo\\n', 'Jamie\\tNo\\n', 'Shelly\\tYes\\n', 'Eileen\\tNo\\n', 'Willard\\tYes\\n', 'Mike\\tSometimes\\n', 'Anna\\tNo\\n', 'Marie\\tYes\\n', 'Marian\\tSometimes\\n', 'Jessica\\tNo\\n', 'Alan\\tNo\\n', 'Rebecca\\tNo\\n', 'Bonnie\\tNo\\n', 'Mark\\tNo\\n', 'Leslie\\tYes\\n', 'Rachel\\tNo\\n', 'Olivia\\tNo\\n', 'Chelsea\\tNo\\n', 'Larry\\tNo\\n', 'Moe\\tYes\\n', 'Curly\\tSometimes\\n']\n"
     ]
    }
   ],
   "source": [
    "# The goal here is to separate the Person column from the Vegetarian column, so you can work on each column independently\n",
    "\n",
    "#To do so, you first need to see what you will be working with...\n",
    "\n",
    "with open(guest_list) as file_object:\n",
    "    guests=file_object.readlines() #read each line into list called guest_list, using the readlines() method\n",
    "    \n",
    "print(guests)\n",
    "\n",
    "# Add the three new guests using the append() method\n",
    "guests.append('Larry\\tNo\\n')\n",
    "guests.append('Moe\\tYes\\n')\n",
    "guests.append('Curly\\tSometimes\\n')\n",
    "\n",
    "print('\\n')\n",
    "\n",
    "print(guests)\n"
   ]
  },
  {
   "cell_type": "code",
   "execution_count": 189,
   "metadata": {},
   "outputs": [],
   "source": [
    "# Create new, blank files for the two separated files\n",
    "\n",
    "guest_name=[]\n",
    "guest_preference=[]\n",
    "\n",
    "# Use a for loop to remove the new lines (\\n) and spaces (\\t) from each guest name and preference\n",
    "\n",
    "for guest in guests:\n",
    "    strip_guest=guest.rstrip()              # Remove the new lines using the rstrip() method\n",
    "    split_guest=strip_guest.split('\\t')     # Remove the spaces using the split() method\n",
    "    guest_name.append(split_guest[0])       # Using the 0 index only indexes information from the guest-name column\n",
    "    guest_preference.append(split_guest[1]) # Using the 1 index only indexes inforation from the guest-preference column\n",
    "        "
   ]
  },
  {
   "cell_type": "code",
   "execution_count": 190,
   "metadata": {},
   "outputs": [
    {
     "name": "stdout",
     "output_type": "stream",
     "text": [
      "['Person', 'Fred', 'Jamie', 'Shelly', 'Eileen', 'Willard', 'Mike', 'Anna', 'Marie', 'Marian', 'Jessica', 'Alan', 'Rebecca', 'Bonnie', 'Mark', 'Leslie', 'Rachel', 'Olivia', 'Chelsea', 'Larry', 'Moe', 'Curly']\n",
      "\n",
      "\n",
      "['Vegetarian', 'No', 'No', 'Yes', 'No', 'Yes', 'Sometimes', 'No', 'Yes', 'Sometimes', 'No', 'No', 'No', 'No', 'No', 'Yes', 'No', 'No', 'No', 'No', 'Yes', 'Sometimes']\n"
     ]
    }
   ],
   "source": [
    "# View both files to make sure the columns are correct\n",
    "\n",
    "print(guest_name)\n",
    "\n",
    "print('\\n') # add to make your data easier to view\n",
    "\n",
    "print(guest_preference)"
   ]
  },
  {
   "cell_type": "code",
   "execution_count": 191,
   "metadata": {},
   "outputs": [
    {
     "name": "stdout",
     "output_type": "stream",
     "text": [
      "['Vegetarian', 'No', 'No', 'Yes', 'No', 'Yes', 'Sometimes', 'No', 'Yes', 'Sometimes', 'No', 'No', 'No', 'No', 'No', 'Yes', 'No', 'No', 'No', 'No', 'Yes', 'Sometimes']\n"
     ]
    }
   ],
   "source": [
    "print(guest_preference) #View and use as a reference"
   ]
  },
  {
   "cell_type": "code",
   "execution_count": 224,
   "metadata": {},
   "outputs": [
    {
     "name": "stdout",
     "output_type": "stream",
     "text": [
      "No 13\n",
      "Yes 5\n",
      "Sometimes 3\n",
      "\n",
      "\n",
      "Guest preferences:\n",
      "There will be 16 guests eating turkey this Thanksgiving.\n"
     ]
    }
   ],
   "source": [
    "# The goal is to determine the number of guests who will be eating turkey\n",
    "\n",
    "#Count the number of times a character (No, Yes, and Sometimes) appears in your list and view the number of guests who will and will not be eating turkey\n",
    "count = {}\n",
    "for s in guest_preference:\n",
    "  if s in count:\n",
    "    count[s] += 1\n",
    "  else:\n",
    "    count[s] = 1\n",
    "\n",
    "for key in count:\n",
    "  if count[key] > 1:\n",
    "    print(key, count[key])\n",
    "    \n",
    "#### According to these results, there are 13 guests that are NOT vegetarians and 3 that are SOMETIMES vegetarians.\n",
    "\n",
    "### This gives you a total of 16 guests who will be eating turkey\n",
    "    \n",
    "print('\\n')\n",
    "\n",
    "print(\"Guest preferences:\")\n",
    "print(\"There will be\", len(count) + len(count) + len(count)+ len(count), \"guests eating turkey this Thanksgiving.\")\n"
   ]
  },
  {
   "cell_type": "code",
   "execution_count": 208,
   "metadata": {},
   "outputs": [
    {
     "name": "stdout",
     "output_type": "stream",
     "text": [
      "Max_Guests\tMin_Pounds\n",
      "4\t5\n",
      "6\t8\n",
      "8\t10\n",
      "10\t13\n",
      "12\t15\n",
      "15\t20\n",
      "20\t25\n",
      "\n"
     ]
    }
   ],
   "source": [
    "#open file using 'with open' command\n",
    "with open('Desktop/turkey_size.txt') as file_object:\n",
    "    \n",
    "    contents = file_object.read() #view the file using the read () method  \n",
    "    \n",
    "print(contents) #show the contents of the file using the 'print' command"
   ]
  },
  {
   "cell_type": "code",
   "execution_count": 209,
   "metadata": {},
   "outputs": [
    {
     "name": "stdout",
     "output_type": "stream",
     "text": [
      "Desktop/turkey_size.txt\n"
     ]
    }
   ],
   "source": [
    "# Make turkey_size.txt a variable\n",
    "turkey_size = 'Desktop/turkey_size.txt'\n",
    "\n",
    "print(turkey_size) #Make sure the variable's content is correct"
   ]
  },
  {
   "cell_type": "code",
   "execution_count": 210,
   "metadata": {},
   "outputs": [
    {
     "name": "stdout",
     "output_type": "stream",
     "text": [
      "['Max_Guests\\tMin_Pounds\\n', '4\\t5\\n', '6\\t8\\n', '8\\t10\\n', '10\\t13\\n', '12\\t15\\n', '15\\t20\\n', '20\\t25\\n']\n"
     ]
    }
   ],
   "source": [
    "with open(turkey_size) as file_object:\n",
    "    turkeys=file_object.readlines() #read each line into list called turkey_size, using the readlines() method\n",
    "    \n",
    "print(turkeys)"
   ]
  },
  {
   "cell_type": "code",
   "execution_count": 211,
   "metadata": {},
   "outputs": [],
   "source": [
    "# Create new, blank files for the two separated files\n",
    "\n",
    "max_guests=[]\n",
    "min_pounds=[]\n",
    "\n",
    "# Use a for loop to remove the new lines (\\n) and spaces (\\t) from each guest name and preference\n",
    "\n",
    "for turkey in turkeys:\n",
    "    strip_turkey=turkey.rstrip()              # Remove the new lines using the rstrip() method\n",
    "    split_turkey=strip_turkey.split('\\t')     # Remove the spaces using the split() method\n",
    "    max_guests.append(split_turkey[0])        # Using the 0 index only indexes information from the group-size column\n",
    "    min_pounds.append(split_turkey[1])        # Using the 1 index only indexes inforation from the turkey-weight column\n"
   ]
  },
  {
   "cell_type": "code",
   "execution_count": null,
   "metadata": {},
   "outputs": [],
   "source": [
    "# View the newly seprated files to verify the information inside\n",
    "\n",
    "print(max_guests) \n",
    "\n",
    "print('\\n')\n",
    "\n",
    "print(min_pounds)"
   ]
  },
  {
   "cell_type": "code",
   "execution_count": 212,
   "metadata": {},
   "outputs": [
    {
     "data": {
      "text/plain": [
       "'Min_Pounds'"
      ]
     },
     "execution_count": 212,
     "metadata": {},
     "output_type": "execute_result"
    }
   ],
   "source": [
    "# Remove the headings from both lists\n",
    "\n",
    "max_guests.pop(0)\n",
    "\n",
    "min_pounds.pop(0)"
   ]
  },
  {
   "cell_type": "code",
   "execution_count": 213,
   "metadata": {},
   "outputs": [
    {
     "name": "stdout",
     "output_type": "stream",
     "text": [
      "['4', '6', '8', '10', '12', '15', '20']\n",
      "\n",
      "\n",
      "['5', '8', '10', '13', '15', '20', '25']\n"
     ]
    }
   ],
   "source": [
    "print(max_guests)\n",
    "\n",
    "print('\\n')\n",
    "\n",
    "print(min_pounds)"
   ]
  },
  {
   "cell_type": "code",
   "execution_count": 216,
   "metadata": {},
   "outputs": [
    {
     "name": "stdout",
     "output_type": "stream",
     "text": [
      "25\n"
     ]
    }
   ],
   "source": [
    "#The goal is to determine the correct turkey (according to size) that will feed at least 16 guests\n",
    "\n",
    "for index in range(0, len(min_pounds)):\n",
    "    if int(max_guests[index]) >= 16 : \n",
    "        print(min_pounds[index])\n",
    "        \n",
    "### According to these results, the only recommended turkey size available for a guest size of 16 or more is a 25 pound turkey. \n",
    "\n",
    "### Since only the minimum sized turkey is needed for 16 guests, the best option would be the 25 pound turkey, which feeds at most 20 guests."
   ]
  },
  {
   "cell_type": "code",
   "execution_count": 265,
   "metadata": {},
   "outputs": [
    {
     "name": "stdout",
     "output_type": "stream",
     "text": [
      "The minimum turkey size must be 25 pounds.\n"
     ]
    }
   ],
   "source": [
    "for index in range(0, len(min_pounds)):\n",
    "    if int(max_guests[index]) == 20 : \n",
    "        print(\"The minimum turkey size must be\",min_pounds[index], \"pounds.\")"
   ]
  }
 ],
 "metadata": {
  "kernelspec": {
   "display_name": "Python 3",
   "language": "python",
   "name": "python3"
  },
  "language_info": {
   "codemirror_mode": {
    "name": "ipython",
    "version": 3
   },
   "file_extension": ".py",
   "mimetype": "text/x-python",
   "name": "python",
   "nbconvert_exporter": "python",
   "pygments_lexer": "ipython3",
   "version": "3.8.3"
  }
 },
 "nbformat": 4,
 "nbformat_minor": 4
}
